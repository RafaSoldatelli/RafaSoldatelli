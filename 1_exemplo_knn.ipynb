{
  "nbformat": 4,
  "nbformat_minor": 0,
  "metadata": {
    "colab": {
      "name": "1_exemplo_knn.ipynb",
      "provenance": [],
      "collapsed_sections": []
    },
    "kernelspec": {
      "name": "python3",
      "display_name": "Python 3"
    },
    "language_info": {
      "name": "python"
    }
  },
  "cells": [
    {
      "cell_type": "code",
      "execution_count": 1,
      "metadata": {
        "id": "3leDfZuYAXy4"
      },
      "outputs": [],
      "source": [
        "from sklearn.datasets import load_iris\n",
        "iris_dataset = load_iris()"
      ]
    },
    {
      "cell_type": "code",
      "source": [
        "print('Chaves do conjunto Iris: \\n{}'.format(iris_dataset.keys()))"
      ],
      "metadata": {
        "id": "rrz7IGB4ByAv",
        "colab": {
          "base_uri": "https://localhost:8080/"
        },
        "outputId": "2c1ae150-da99-438f-c581-0e264b4e4f34"
      },
      "execution_count": 2,
      "outputs": [
        {
          "output_type": "stream",
          "name": "stdout",
          "text": [
            "Chaves do conjunto Iris: \n",
            "dict_keys(['data', 'target', 'frame', 'target_names', 'DESCR', 'feature_names', 'filename', 'data_module'])\n"
          ]
        }
      ]
    },
    {
      "cell_type": "code",
      "source": [
        "print('Nomes das categorias: {}'.format(iris_dataset['target_names']))\n",
        "print('Nomes das características: {}'.format(iris_dataset['feature_names']))\n",
        "print('Shape dos dados de entrada: {}'.format(iris_dataset['data'].shape))\n",
        "print('Cinco primeiros elementos do conjunto: \\n{}'.format(iris_dataset['data'][:5]))\n",
        "print('Shape da saída esperada (categorias): {}'.format(iris_dataset['target'].shape))\n",
        "print('Saída esperada: {}'.format(iris_dataset['target']))"
      ],
      "metadata": {
        "id": "L5WZmUDXDXdJ",
        "colab": {
          "base_uri": "https://localhost:8080/"
        },
        "outputId": "96d2a4f4-72e4-4f9a-b80a-af4189119e24"
      },
      "execution_count": 3,
      "outputs": [
        {
          "output_type": "stream",
          "name": "stdout",
          "text": [
            "Nomes das categorias: ['setosa' 'versicolor' 'virginica']\n",
            "Nomes das características: ['sepal length (cm)', 'sepal width (cm)', 'petal length (cm)', 'petal width (cm)']\n",
            "Shape dos dados de entrada: (150, 4)\n",
            "Cinco primeiros elementos do conjunto: \n",
            "[[5.1 3.5 1.4 0.2]\n",
            " [4.9 3.  1.4 0.2]\n",
            " [4.7 3.2 1.3 0.2]\n",
            " [4.6 3.1 1.5 0.2]\n",
            " [5.  3.6 1.4 0.2]]\n",
            "Shape da saída esperada (categorias): (150,)\n",
            "Saída esperada: [0 0 0 0 0 0 0 0 0 0 0 0 0 0 0 0 0 0 0 0 0 0 0 0 0 0 0 0 0 0 0 0 0 0 0 0 0\n",
            " 0 0 0 0 0 0 0 0 0 0 0 0 0 1 1 1 1 1 1 1 1 1 1 1 1 1 1 1 1 1 1 1 1 1 1 1 1\n",
            " 1 1 1 1 1 1 1 1 1 1 1 1 1 1 1 1 1 1 1 1 1 1 1 1 1 1 2 2 2 2 2 2 2 2 2 2 2\n",
            " 2 2 2 2 2 2 2 2 2 2 2 2 2 2 2 2 2 2 2 2 2 2 2 2 2 2 2 2 2 2 2 2 2 2 2 2 2\n",
            " 2 2]\n"
          ]
        }
      ]
    },
    {
      "cell_type": "code",
      "source": [
        "from sklearn.model_selection import train_test_split\n",
        "X_train, X_test, y_train, y_test = train_test_split(\n",
        "    iris_dataset['data'], iris_dataset['target'], random_state=0\n",
        ")"
      ],
      "metadata": {
        "id": "DwUI-FUEB3hF"
      },
      "execution_count": 4,
      "outputs": []
    },
    {
      "cell_type": "code",
      "source": [
        "from sklearn.neighbors import KNeighborsClassifier\n",
        "knn = KNeighborsClassifier(n_neighbors=3)"
      ],
      "metadata": {
        "id": "zwzTe9t5CIxL"
      },
      "execution_count": 13,
      "outputs": []
    },
    {
      "cell_type": "code",
      "source": [
        "knn.fit(X_train, y_train)"
      ],
      "metadata": {
        "id": "p24Eh9lDCXYr",
        "colab": {
          "base_uri": "https://localhost:8080/"
        },
        "outputId": "104ca8ad-319f-4f0b-cb5e-162c3b1c85b1"
      },
      "execution_count": 14,
      "outputs": [
        {
          "output_type": "execute_result",
          "data": {
            "text/plain": [
              "KNeighborsClassifier(n_neighbors=3)"
            ]
          },
          "metadata": {},
          "execution_count": 14
        }
      ]
    },
    {
      "cell_type": "code",
      "source": [
        "import numpy as np"
      ],
      "metadata": {
        "id": "p7Y_XvXXCZDs"
      },
      "execution_count": 15,
      "outputs": []
    },
    {
      "cell_type": "code",
      "source": [
        "X_new = np.array([[4.9, 3 ,1.4, 0.2]])\n",
        "prediction = knn.predict(X_new)\n",
        "print('Previsão: {}'.format(prediction))\n",
        "print('Categoria prevista: {}'.format(iris_dataset['target_names'][prediction]))"
      ],
      "metadata": {
        "id": "ZVBT35BUCduz",
        "colab": {
          "base_uri": "https://localhost:8080/"
        },
        "outputId": "9df77c89-5841-46c8-f38f-819d498f5b6a"
      },
      "execution_count": 16,
      "outputs": [
        {
          "output_type": "stream",
          "name": "stdout",
          "text": [
            "Previsão: [0]\n",
            "Categoria prevista: ['setosa']\n"
          ]
        }
      ]
    },
    {
      "cell_type": "code",
      "source": [
        "y_pred = knn.predict(X_test)\n",
        "print('Previsões para o conjunto de teste:\\n {}'.format(y_pred))"
      ],
      "metadata": {
        "id": "7UE7TFs8CsQ2",
        "colab": {
          "base_uri": "https://localhost:8080/"
        },
        "outputId": "f2eb0c84-75ad-4d25-cc1d-d4bbbf472e25"
      },
      "execution_count": 17,
      "outputs": [
        {
          "output_type": "stream",
          "name": "stdout",
          "text": [
            "Previsões para o conjunto de teste:\n",
            " [2 1 0 2 0 2 0 1 1 1 2 1 1 1 1 0 1 1 0 0 2 1 0 0 2 0 0 1 1 0 2 1 0 2 2 1 0\n",
            " 2]\n"
          ]
        }
      ]
    },
    {
      "cell_type": "code",
      "source": [
        "print('Acurácia do conjunto de teste: {:.2f}'.format(knn.score(X_test, y_test)))"
      ],
      "metadata": {
        "id": "peaI7riaC5Z4",
        "colab": {
          "base_uri": "https://localhost:8080/"
        },
        "outputId": "f62e3c9e-a53f-42c4-f65d-fcdd904a0cb1"
      },
      "execution_count": 18,
      "outputs": [
        {
          "output_type": "stream",
          "name": "stdout",
          "text": [
            "Acurácia do conjunto de teste: 0.97\n"
          ]
        }
      ]
    },
    {
      "cell_type": "code",
      "source": [
        ""
      ],
      "metadata": {
        "id": "Kky8H-3sDAAh"
      },
      "execution_count": 18,
      "outputs": []
    }
  ]
}